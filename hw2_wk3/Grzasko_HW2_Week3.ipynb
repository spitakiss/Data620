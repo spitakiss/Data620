{
 "cells": [
  {
   "cell_type": "markdown",
   "metadata": {},
   "source": [
    "# Data 620: Homework 2: Graph Visualization\n",
    "### Aaron Grzasko\n",
    "### 9/15/2018"
   ]
  },
  {
   "cell_type": "markdown",
   "metadata": {},
   "source": [
    "## Instructions"
   ]
  },
  {
   "cell_type": "markdown",
   "metadata": {},
   "source": [
    "*1) Load a graph database of your choosing from the web.  If the network dataset is large, feel free to use a small subset of nodes and edges.*  \n",
    "*2) Create basic analysis on graph, including graph diameter and at least one additional metric.*  \n",
    "*3) Use a visualization tool to display information*  \n",
    "*4) Record a short video and submit link as part of homework submission*\n"
   ]
  },
  {
   "cell_type": "markdown",
   "metadata": {},
   "source": [
    "## 1) Load Graph Database"
   ]
  },
  {
   "cell_type": "markdown",
   "metadata": {},
   "source": [
    "### Libraries"
   ]
  },
  {
   "cell_type": "markdown",
   "metadata": {},
   "source": [
    "First, let's load the relevant libraries and set up the Python environment."
   ]
  },
  {
   "cell_type": "code",
   "execution_count": 2,
   "metadata": {
    "collapsed": true
   },
   "outputs": [],
   "source": [
    "# load libraries\n",
    "import matplotlib.pyplot as plt\n",
    "import networkx as nx\n",
    "import numpy as np\n",
    "import pandas as pd\n",
    "import warnings\n",
    "from IPython.display import Image\n",
    "import urllib.request\n",
    "from gephistreamer import graph\n",
    "from gephistreamer import streamer\n",
    "\n",
    "# settings\n",
    "%matplotlib inline\n",
    "warnings.filterwarnings('ignore')"
   ]
  },
  {
   "cell_type": "markdown",
   "metadata": {},
   "source": [
    "### Data Description"
   ]
  },
  {
   "cell_type": "markdown",
   "metadata": {},
   "source": [
    "Data for this assignment were retrieved from [sociopatterns.org](http://sociopatterns.org). The landing page for the data set can be found [here](http://www.sociopatterns.org/datasets/high-school-dynamic-contact-networks/).\n",
    "\n",
    "The data set indicates interactions between pairs of French high school students and teachers in Marseilles, France.  The data were collected for students of three classes over the course of four days in December 2011.\n",
    "\n",
    "The website describes the following four fields in the *highschool_2011.csv* file:  \n",
    "* *time* - the time (in seconds) the interaction took place, given in intervals [t-20, t]\n",
    "* *id1* - unique identifier for person 1.\n",
    "* *id2* - unique identifier for person 2\n",
    "* *class1* - the class of person 1.\n",
    "* *class2* - the class of person 2.\n",
    "\n",
    "\n",
    "This data also has an accompanying metafile, *metadata_2011.txt*, with the following fields:\n",
    "* *id* - unique identifier of student/teacher\n",
    "* *class* - class of student or teacher\n",
    "* *gender* - gender of individual"
   ]
  },
  {
   "cell_type": "markdown",
   "metadata": {
    "collapsed": true
   },
   "source": [
    "### Get and Explore Data"
   ]
  },
  {
   "cell_type": "markdown",
   "metadata": {},
   "source": [
    "First, let's download the relevant data files directly from the [sociopatterns.org](http://sociopatterns.org)."
   ]
  },
  {
   "cell_type": "code",
   "execution_count": 3,
   "metadata": {
    "collapsed": true
   },
   "outputs": [],
   "source": [
    "# downlaod data from web\n",
    "url1 = 'http://www.sociopatterns.org/wp-content/uploads/2014/08/highschool_2011.csv.gz'\n",
    "url2 = 'http://www.sociopatterns.org/wp-content/uploads/2015/09/metadata_2011.txt'\n",
    "file1 = urllib.request.urlretrieve(url1,'highschool_2011.csv.gz' )\n",
    "file2 = urllib.request.urlretrieve(url2, 'metadata_2011.txt')"
   ]
  },
  {
   "cell_type": "markdown",
   "metadata": {},
   "source": [
    "**Highschool File**"
   ]
  },
  {
   "cell_type": "markdown",
   "metadata": {},
   "source": [
    "Let's explore the main data file, *highschool_2001.csv*:"
   ]
  },
  {
   "cell_type": "code",
   "execution_count": 4,
   "metadata": {},
   "outputs": [
    {
     "name": "stdout",
     "output_type": "stream",
     "text": [
      "Data Shape:\n",
      "(28561, 5)\n",
      "##################################################\n",
      "Data Frame head: \n",
      "    time  id1  id2 class1 class2\n",
      "0  54120   26   66     PC     PC\n",
      "1  54140   26   66     PC     PC\n",
      "2  54160   24   25     PC     PC\n",
      "3  54160  100   37     PC     PC\n",
      "4  54180   37   57     PC    PC*\n",
      "##################################################\n",
      "Data Types:\n",
      "<class 'pandas.core.frame.DataFrame'>\n",
      "RangeIndex: 28561 entries, 0 to 28560\n",
      "Data columns (total 5 columns):\n",
      "time      28561 non-null int64\n",
      "id1       28561 non-null int64\n",
      "id2       28561 non-null int64\n",
      "class1    28561 non-null object\n",
      "class2    28561 non-null object\n",
      "dtypes: int64(3), object(2)\n",
      "memory usage: 1.1+ MB\n",
      "None\n",
      "##################################################\n",
      "Summary of numeric data:\n",
      "                time          id1           id2\n",
      "count   28561.000000  28561.00000  28561.000000\n",
      "mean   178437.273205     55.45114     60.984034\n",
      "std     97479.134736     30.79300     36.557411\n",
      "min     54120.000000      1.00000      1.000000\n",
      "25%     76500.000000     28.00000     27.000000\n",
      "50%    156720.000000     53.00000     63.000000\n",
      "75%    251180.000000     85.00000    100.000000\n",
      "max    326450.000000    126.00000    125.000000\n",
      "##################################################\n",
      "Class 1: values and counts: \n",
      "class1\n",
      "PC         11688\n",
      "PC*         8971\n",
      "PSI*        7835\n",
      "teacher       67\n",
      "Name: time, dtype: int64\n",
      "##################################################\n",
      "Class 2: values and counts: \n",
      "class2\n",
      "PC         10028\n",
      "PC*         9909\n",
      "PSI*        8174\n",
      "teacher      450\n",
      "Name: time, dtype: int64\n"
     ]
    }
   ],
   "source": [
    "# header values\n",
    "head = ['time', 'id1', 'id2', 'class1', 'class2']\n",
    "\n",
    "# decompress and read highschool file as DataFrame\n",
    "df = pd.read_csv('highschool_2011.csv.gz', compression='gzip', names=head, sep='\\t', quotechar='\"')\n",
    "\n",
    "# print data shape\n",
    "print(\"Data Shape:\")  \n",
    "print(df.shape)\n",
    "print(\"#\"*50)\n",
    "\n",
    "# print head of data frame\n",
    "print(\"Data Frame head: \")\n",
    "print(df.head())\n",
    "print(\"#\"*50)\n",
    "\n",
    "# explore data types\n",
    "print(\"Data Types:\")\n",
    "print(df.info())\n",
    "print(\"#\"*50)\n",
    "\n",
    "# summary of numerical columns\n",
    "print(\"Summary of numeric data:\")\n",
    "print(df.describe())\n",
    "print(\"#\"*50)\n",
    "\n",
    "# table of class1 field values and corresponding counts\n",
    "print(\"Class 1: values and counts: \")\n",
    "print(df.groupby('class1').count().iloc[:,0])\n",
    "print(\"#\"*50)\n",
    "\n",
    "# table of class2 field values and corresponding counts\n",
    "print(\"Class 2: values and counts: \")\n",
    "print(df.groupby('class2').count().iloc[:,0])\n"
   ]
  },
  {
   "cell_type": "markdown",
   "metadata": {},
   "source": [
    "We see the data file is fairly large with 58,561 interactions pairs captured.  We also see that students are bucketed in one of three unique classes, with a fourth class reserved for teachers.  "
   ]
  },
  {
   "cell_type": "markdown",
   "metadata": {},
   "source": [
    "**Meta File**"
   ]
  },
  {
   "cell_type": "markdown",
   "metadata": {},
   "source": [
    "Let's briefly examine the *metadata_2011.txt* file."
   ]
  },
  {
   "cell_type": "code",
   "execution_count": 5,
   "metadata": {
    "scrolled": false
   },
   "outputs": [
    {
     "name": "stdout",
     "output_type": "stream",
     "text": [
      "Data Meta Shape:\n",
      "(126, 3)\n",
      "##################################################\n",
      "Data Meta head: \n",
      "    id class gender\n",
      "0   28    PC      F\n",
      "1  103    PC      F\n",
      "2   34  PSI*      M\n",
      "3   81    PC      M\n",
      "4   56    PC      F\n",
      "##################################################\n",
      "Data Meta Types:\n",
      "<class 'pandas.core.frame.DataFrame'>\n",
      "RangeIndex: 126 entries, 0 to 125\n",
      "Data columns (total 3 columns):\n",
      "id        126 non-null int64\n",
      "class     126 non-null object\n",
      "gender    126 non-null object\n",
      "dtypes: int64(1), object(2)\n",
      "memory usage: 3.0+ KB\n",
      "None\n",
      "##################################################\n",
      "Summary of numeric data:\n",
      "               id\n",
      "count  126.000000\n",
      "mean    63.500000\n",
      "std     36.517119\n",
      "min      1.000000\n",
      "25%     32.250000\n",
      "50%     63.500000\n",
      "75%     94.750000\n",
      "max    126.000000\n",
      "##################################################\n",
      "Class: values and counts: \n",
      "class\n",
      "PC         31\n",
      "PC*        45\n",
      "PSI*       42\n",
      "teacher     8\n",
      "Name: id, dtype: int64\n",
      "##################################################\n",
      "Gedner: values and counts: \n",
      "gender\n",
      "F    41\n",
      "M    85\n",
      "Name: id, dtype: int64\n"
     ]
    }
   ],
   "source": [
    "# header values\n",
    "head = ['id', 'class', 'gender']\n",
    "\n",
    "# read meta file as DataFrame\n",
    "df_meta = pd.read_csv('metadata_2011.txt', sep = '\\t', names = head)\n",
    "\n",
    "\n",
    "# print data shape\n",
    "print(\"Data Meta Shape:\")  \n",
    "print(df_meta.shape)\n",
    "print(\"#\"*50)\n",
    "\n",
    "# print head of data frame\n",
    "print(\"Data Meta head: \")\n",
    "print(df_meta.head())\n",
    "print(\"#\"*50)\n",
    "\n",
    "# explore data types\n",
    "print(\"Data Meta Types:\")\n",
    "print(df_meta.info())\n",
    "print(\"#\"*50)\n",
    "\n",
    "# summary of numerical columns\n",
    "print(\"Summary of numeric data:\")\n",
    "print(df_meta.describe())\n",
    "print(\"#\"*50)\n",
    "\n",
    "# table of class field values and corresponding counts\n",
    "print(\"Class: values and counts: \")\n",
    "print(df_meta.groupby('class').count().iloc[:,0])\n",
    "print(\"#\"*50)\n",
    "\n",
    "# table of gender field values and corresponding counts\n",
    "print(\"Gedner: values and counts: \")\n",
    "print(df_meta.groupby('gender').count().iloc[:,0])\n",
    "\n"
   ]
  },
  {
   "cell_type": "markdown",
   "metadata": {},
   "source": [
    "The meta file provides one additional piece of information not available in the main data set: gender.  We also see that the meta file describes information about 126 unique individuals."
   ]
  },
  {
   "cell_type": "markdown",
   "metadata": {},
   "source": [
    "### Data Wrangling"
   ]
  },
  {
   "cell_type": "markdown",
   "metadata": {},
   "source": [
    "Instead tracking pairs of interactions at each time interval, we'll summarize the data set so that we'll sum the number of interactions that were recorded over the entire four day period."
   ]
  },
  {
   "cell_type": "code",
   "execution_count": 7,
   "metadata": {},
   "outputs": [],
   "source": [
    "# summarize by id1/id2 interactions, anc count number of interactions recording\n",
    "df_mod = pd.DataFrame(df.groupby(['id1', 'id2']).count().iloc[:,0])\n",
    "df_mod = df_mod.reset_index()"
   ]
  },
  {
   "cell_type": "markdown",
   "metadata": {},
   "source": [
    "## 2) Graph Analysis"
   ]
  },
  {
   "cell_type": "markdown",
   "metadata": {},
   "source": [
    "### Graph Metrics - Python"
   ]
  },
  {
   "cell_type": "markdown",
   "metadata": {},
   "source": [
    "Below, we produce a handful of graph statistics:  \n",
    "* number of nodes  \n",
    "* number of edges  \n",
    "* graph diameter  \n",
    "* minimum graph degree\n",
    "* maximum graph degree\n",
    "* top 10 nodes, sorted by degree in descending order\n",
    "* distribution of closeness centrality"
   ]
  },
  {
   "cell_type": "code",
   "execution_count": 13,
   "metadata": {},
   "outputs": [
    {
     "name": "stdout",
     "output_type": "stream",
     "text": [
      "number of edges: 1710\n",
      "\n",
      "number of nodes: 126\n",
      "\n",
      "graph diameter: 4\n",
      "\n",
      "minimum graph degree: 2\n",
      "\n",
      "maxmum graph degree: 55\n",
      "\n",
      "Top 10 nodes with corresponding degrees:\n",
      "[(16, 55), (11, 54), (43, 53), (51, 51), (9, 50), (69, 50), (12, 48), (24, 47), (40, 47)]\n",
      "\n",
      "characteristics of top 10 most connected nodes:\n",
      "     id class gender\n",
      "7    24    PC      M\n",
      "40   16   PC*      M\n",
      "45   51   PC*      F\n",
      "54    9  PSI*      M\n",
      "69   43   PC*      M\n",
      "70   11   PC*      F\n",
      "71   40   PC*      F\n",
      "88   12   PC*      M\n",
      "112  69   PC*      M\n",
      "\n",
      "Closeness Centrality:\n"
     ]
    },
    {
     "data": {
      "image/png": "[encoded data removed]",
      "text/plain": [
       "<matplotlib.figure.Figure at 0x1f298f4c160>"
      ]
     },
     "metadata": {},
     "output_type": "display_data"
    }
   ],
   "source": [
    "# save each interaction pair as edge\n",
    "edges = [(df_mod.iloc[i,0],df_mod.iloc[i,1]) for i in range(len(df_mod))]\n",
    "\n",
    "# unique node identifiers\n",
    "nodes = np.unique(np.concatenate((df_mod['id1'],df_mod['id2'])))\n",
    "\n",
    "# initiate graph\n",
    "G=nx.Graph()\n",
    "\n",
    "# add nodes and edges to Graph\n",
    "G.add_nodes_from(nodes)\n",
    "G.add_edges_from(edges)\n",
    "\n",
    "# number of edges\n",
    "print(\"number of edges: \" + str(G.number_of_edges()))\n",
    "\n",
    "# number of nodes\n",
    "print(\"\\nnumber of nodes: \" + str(G.number_of_nodes()))\n",
    "\n",
    "# graph diameter\n",
    "print(\"\\ngraph diameter: \" + str(nx.diameter(G)))\n",
    "\n",
    "# degree statistics\n",
    "deg=nx.degree(G)\n",
    "print(\"\\nminimum graph degree: \" + str(min(deg.values())))\n",
    "print(\"\\nmaxmum graph degree: \" + str(max(deg.values())))\n",
    "\n",
    "# top 10 nodes in terms of degree\n",
    "deg10 = [(k, deg[k]) for k in sorted(deg, key=deg.get, reverse=True)][0:9]\n",
    "print(\"\\nTop 10 nodes with corresponding degrees:\")\n",
    "print(deg10)\n",
    "deg10_nodes = [x[0] for x in deg10]\n",
    "print('\\ncharacteristics of top 10 most connected nodes:')\n",
    "print(df_meta[df_meta['id'].isin(deg10_nodes)])\n",
    "\n",
    "# closeness centrality\n",
    "print(\"\\nCloseness Centrality:\")\n",
    "cc = nx.closeness_centrality(G)\n",
    "plt.hist(([cc[i] for i in cc]),12)\n",
    "plt.xlabel('closeness centrality')\n",
    "plt.ylabel('node count')\n",
    "plt.title('Distribution of Closeness Centrality')\n",
    "plt.show()"
   ]
  },
  {
   "cell_type": "markdown",
   "metadata": {},
   "source": [
    "### Gephi Graphi Metrics"
   ]
  },
  {
   "cell_type": "markdown",
   "metadata": {},
   "source": [
    "Before we visualize the data in Gephi, we need to send the node and edge data to the Gephi Software.  The scripts below allow us to construct the network directly from Python.  Note: the \"Master\" server must be turned on within Gephi for the scripts to work properly."
   ]
  },
  {
   "cell_type": "code",
   "execution_count": 289,
   "metadata": {
    "collapsed": true
   },
   "outputs": [],
   "source": [
    "# create stream object, gephi\n",
    "stream = streamer.Streamer(streamer.GephiWS())"
   ]
  },
  {
   "cell_type": "code",
   "execution_count": 290,
   "metadata": {
    "collapsed": true
   },
   "outputs": [],
   "source": [
    "# add nodes to gephi, include class and gender info\n",
    "for i in range(len(df_meta)):\n",
    "    mynode = graph.Node(str(df_meta.iloc[i,0]), clss=df_meta.iloc[i,1], gender=df_meta.iloc[i,2])\n",
    "    stream.add_node(mynode)\n",
    "\n",
    "# add edges to gephi, include number of contacts between each node pair\n",
    "for i,j in edges:\n",
    "    node1 = graph.Node(str(i))\n",
    "    node2 = graph.Node(str(j))\n",
    "    myedge = graph.Edge(node1, node2, False, contacts=int(df_mod[(df_mod['id1']==i) & (df_mod['id2']==j)].iloc[0,2]))\n",
    "    stream.add_edge(myedge)\n",
    "  \n"
   ]
  },
  {
   "cell_type": "markdown",
   "metadata": {},
   "source": [
    "Below are a variety of metrics produced in the Gephi software:"
   ]
  },
  {
   "cell_type": "code",
   "execution_count": 10,
   "metadata": {},
   "outputs": [
    {
     "data": {
      "text/html": [
       "<img src=\"https://raw.githubusercontent.com/spitakiss/Data620/master/hw2_wk3/GephiMetrics.PNG\"/>"
      ],
      "text/plain": [
       "<IPython.core.display.Image object>"
      ]
     },
     "execution_count": 10,
     "metadata": {},
     "output_type": "execute_result"
    }
   ],
   "source": [
    "# image of graph metrics from Gephi\n",
    "url = 'https://raw.githubusercontent.com/spitakiss/Data620/master/hw2_wk3/GephiMetrics.PNG'\n",
    "Image(url=url)\n"
   ]
  },
  {
   "cell_type": "markdown",
   "metadata": {},
   "source": [
    "## 3) Visualize Data"
   ]
  },
  {
   "cell_type": "markdown",
   "metadata": {},
   "source": [
    "### NetworkX Visual Summary"
   ]
  },
  {
   "cell_type": "markdown",
   "metadata": {},
   "source": [
    "Here is a visual summary of our network, using the networkx python library:"
   ]
  },
  {
   "cell_type": "code",
   "execution_count": 11,
   "metadata": {},
   "outputs": [
    {
     "data": {
      "image/png": "[encoded data removed]",
      "text/plain": [
       "<matplotlib.figure.Figure at 0x1f298f97208>"
      ]
     },
     "metadata": {},
     "output_type": "display_data"
    }
   ],
   "source": [
    "# draw graph\n",
    "nx.draw(G, node_size=50)"
   ]
  },
  {
   "cell_type": "markdown",
   "metadata": {},
   "source": [
    "From the graph above, we see that a few dense clusters of nodes (i.e. individuals) that are highly connected. We also see a small number of nodes that have very few connections with other nodes."
   ]
  },
  {
   "cell_type": "markdown",
   "metadata": {},
   "source": [
    "### Gephi Visual Summary"
   ]
  },
  {
   "cell_type": "markdown",
   "metadata": {},
   "source": [
    "Let's look at various network visualizations produced using Gephi Software.  \n",
    "\n",
    "In the graph below, we colored the nodes to indicate gender.  It appears that each gender has tendency to cluster more closely to individuals of the same sex.    "
   ]
  },
  {
   "cell_type": "code",
   "execution_count": 12,
   "metadata": {},
   "outputs": [
    {
     "data": {
      "text/html": [
       "<img src=\"https://raw.githubusercontent.com/spitakiss/Data620/master/hw2_wk3/GephiGraph_Gender.PNG\"/>"
      ],
      "text/plain": [
       "<IPython.core.display.Image object>"
      ]
     },
     "execution_count": 12,
     "metadata": {},
     "output_type": "execute_result"
    }
   ],
   "source": [
    "# image of graph from Gephi - node colors indicate gender\n",
    "url = 'https://raw.githubusercontent.com/spitakiss/Data620/master/hw2_wk3/GephiGraph_Gender.PNG'\n",
    "Image(url=url)\n"
   ]
  },
  {
   "cell_type": "markdown",
   "metadata": {},
   "source": [
    "Now let's look at the same network, but with node colors broken out by the class of each individual.  Here we see that individuals in the same class are much more likely to interact with other students in the same class.  We also see that teachers (see the turquoise nodes) appear to be less connected compared to the typical student.  "
   ]
  },
  {
   "cell_type": "code",
   "execution_count": 296,
   "metadata": {},
   "outputs": [
    {
     "data": {
      "text/html": [
       "<img src=\"https://raw.githubusercontent.com/spitakiss/Data620/master/hw2_wk3/GephiGraph_Class.PNG\"/>"
      ],
      "text/plain": [
       "<IPython.core.display.Image object>"
      ]
     },
     "execution_count": 296,
     "metadata": {},
     "output_type": "execute_result"
    }
   ],
   "source": [
    "# image of graph from Gephi - node colors indicate class\n",
    "url = 'https://raw.githubusercontent.com/spitakiss/Data620/master/hw2_wk3/GephiGraph_Class.PNG'\n",
    "Image(url=url)"
   ]
  },
  {
   "cell_type": "markdown",
   "metadata": {},
   "source": [
    "Finally, we implement a heat map on the edge color intensity.  Darker colors represent more frequent interaction between pairs of individuals.  Interestingly, we only see a handful of student pairs where interaction was extremely frequent over the course of the four days in the measurement period.  "
   ]
  },
  {
   "cell_type": "code",
   "execution_count": 297,
   "metadata": {},
   "outputs": [
    {
     "data": {
      "text/html": [
       "<img src=\"https://raw.githubusercontent.com/spitakiss/Data620/master/hw2_wk3/GephiGraph_contacts.PNG\"/>"
      ],
      "text/plain": [
       "<IPython.core.display.Image object>"
      ]
     },
     "execution_count": 297,
     "metadata": {},
     "output_type": "execute_result"
    }
   ],
   "source": [
    "# image of graph from Gephi - edge colors vary by number of interactions between nodes\n",
    "url = 'https://raw.githubusercontent.com/spitakiss/Data620/master/hw2_wk3/GephiGraph_contacts.PNG'\n",
    "Image(url=url)"
   ]
  },
  {
   "cell_type": "markdown",
   "metadata": {},
   "source": [
    "## 4) Screencast-o-matic Commentary"
   ]
  },
  {
   "cell_type": "markdown",
   "metadata": {},
   "source": [
    "Please refer to my visual/audio commentary here:\n",
    "http://youtu.be/iv7ujB67sV8?hd=1"
   ]
  },
  {
   "cell_type": "markdown",
   "metadata": {},
   "source": [
    "## References"
   ]
  },
  {
   "cell_type": "markdown",
   "metadata": {},
   "source": [
    "* [Graph Data](http://www.sociopatterns.org/datasets/high-school-dynamic-contact-networks/). This data was part of the following study: \n",
    "J. Fournet, A. Barrat, Contact patterns among high school students,PLoS ONE 9(9):e107878 (2014).  The data were made available as part of a collaboration with sociopatterns.org  \n",
    "* [GephiStreamer Documentation](https://github.com/totetmatt/GephiStreamer/blob/master/README.md)\n",
    "* [How to create Gephi graphs from Ptyhon](https://www.codesd.com/item/how-to-create-gephi-network-graphs-from-python.html)\n",
    "* Tsvetovat, Maksim, and Alexander Kouznetsov. *Social Network Analysis for Startups*. OReilly, 2012, pp 25-50.  \n",
    "* [NetworkX Documentation](https://networkx.github.io/documentation/networkx-1.9.1/)\n",
    "* [My Github Repo](https://github.com/spitakiss/Data620/tree/master/hw2_wk3)"
   ]
  }
 ],
 "metadata": {
  "kernelspec": {
   "display_name": "Python 3",
   "language": "python",
   "name": "python3"
  },
  "language_info": {
   "codemirror_mode": {
    "name": "ipython",
    "version": 3
   },
   "file_extension": ".py",
   "mimetype": "text/x-python",
   "name": "python",
   "nbconvert_exporter": "python",
   "pygments_lexer": "ipython3",
   "version": "3.5.3"
  }
 },
 "nbformat": 4,
 "nbformat_minor": 2
}
