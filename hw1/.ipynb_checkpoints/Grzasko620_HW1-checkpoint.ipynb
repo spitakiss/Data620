{
 "cells": [
  {
   "cell_type": "markdown",
   "metadata": {},
   "source": [
    "# Data 620: Homework 1\n",
    "### Aaron Grzasko\n",
    "### 9/7/2018"
   ]
  },
  {
   "cell_type": "markdown",
   "metadata": {},
   "source": [
    "## Instructions"
   ]
  },
  {
   "cell_type": "markdown",
   "metadata": {},
   "source": [
    "*Create nodes and edges for a basic graph, like the Krackhardt kite.*\n",
    "\n",
    "First, let's load all relevant libraries and configure the jupyter notebook environment:\n"
   ]
  },
  {
   "cell_type": "code",
   "execution_count": 103,
   "metadata": {
    "collapsed": true
   },
   "outputs": [],
   "source": [
    "# import python libraries\n",
    "import matplotlib.pyplot as plt\n",
    "import networkx as nx\n",
    "from IPython.display import Image\n",
    "import warnings\n",
    "import numpy as np\n",
    "import pandas as pd\n",
    "import matplotlib.pyplot as plt\n",
    "\n",
    "# settings\n",
    "%matplotlib inline\n",
    "warnings.filterwarnings('ignore')\n"
   ]
  },
  {
   "cell_type": "markdown",
   "metadata": {},
   "source": [
    "From the assignment instructions, we are trying to replicate the graph below:"
   ]
  },
  {
   "cell_type": "code",
   "execution_count": 151,
   "metadata": {
    "scrolled": true
   },
   "outputs": [
    {
     "data": {
      "text/html": [
       "<img src=\"https://raw.githubusercontent.com/spitakiss/Data620/master/hw1/Graph_pic.PNG\"/>"
      ],
      "text/plain": [
       "<IPython.core.display.Image object>"
      ]
     },
     "execution_count": 151,
     "metadata": {},
     "output_type": "execute_result"
    }
   ],
   "source": [
    "# image of graph from hw instructions\n",
    "url = 'https://raw.githubusercontent.com/spitakiss/Data620/master/hw1/Graph_pic.PNG'\n",
    "Image(url=url)\n"
   ]
  },
  {
   "cell_type": "markdown",
   "metadata": {},
   "source": [
    "## Draw Krackhardt Kite"
   ]
  },
  {
   "cell_type": "markdown",
   "metadata": {},
   "source": [
    "In this section, we'll now draw the Krachardt kite using the NetworkX python library."
   ]
  },
  {
   "cell_type": "code",
   "execution_count": 25,
   "metadata": {
    "collapsed": true
   },
   "outputs": [],
   "source": [
    "# initialize graph with 10 nodes; number nodes 1 through 10\n",
    "G = nx.Graph()\n",
    "G.add_nodes_from([i + 1 for i in range(10)])\n",
    "\n",
    "# set attributes for each node with corresponding names in graph file above\n",
    "names = ['Jane','Ike','Heather','Fernando','Carol','Andre','Beverly','Ed','Garth','Diane']\n",
    "for i in range(10):\n",
    "    G.node[i+1]['name'] = names[i]\n"
   ]
  },
  {
   "cell_type": "markdown",
   "metadata": {},
   "source": [
    "Here is a mapping of node number to node name:"
   ]
  },
  {
   "cell_type": "code",
   "execution_count": 152,
   "metadata": {},
   "outputs": [
    {
     "data": {
      "text/plain": [
       "[(1, {'name': 'Jane'}),\n",
       " (2, {'name': 'Ike'}),\n",
       " (3, {'name': 'Heather'}),\n",
       " (4, {'name': 'Fernando'}),\n",
       " (5, {'name': 'Carol'}),\n",
       " (6, {'name': 'Andre'}),\n",
       " (7, {'name': 'Beverly'}),\n",
       " (8, {'name': 'Ed'}),\n",
       " (9, {'name': 'Garth'}),\n",
       " (10, {'name': 'Diane'})]"
      ]
     },
     "execution_count": 152,
     "metadata": {},
     "output_type": "execute_result"
    }
   ],
   "source": [
    "# view node numbers with name attributes\n",
    "G.nodes(data=True)\n"
   ]
  },
  {
   "cell_type": "markdown",
   "metadata": {},
   "source": [
    "Below, we draw the graph using the *nx.draw()* function."
   ]
  },
  {
   "cell_type": "code",
   "execution_count": 27,
   "metadata": {},
   "outputs": [
    {
     "data": {
      "image/png": "[encoded data removed]",
      "text/plain": [
       "<matplotlib.figure.Figure at 0x29f0bfa2630>"
      ]
     },
     "metadata": {},
     "output_type": "display_data"
    }
   ],
   "source": [
    "# assign edges to graph based on diagram above\n",
    "G.add_edges_from([(1,2), (2,3),(3,4),(3,9),(4,5),(4,6),(4,9),(4,10),(5,6),(5,10),(6,7),(6,10),(7,8),(7,9),(7,10),\\\n",
    "                  (8,9),(8,10),(9,10)])\n",
    "\n",
    "# assign dictionary of nodes and names in key:value pairs.  Used for displaying names when drawing graph\n",
    "labels=dict((n,d['name']) for n,d in G.nodes(data=True))\n",
    "\n",
    "# set graph layout to aproximiate positions in graph image above\n",
    "layout = {1:(7,0),\n",
    "       2:(5,0),\n",
    "       3:(3,0),\n",
    "       4:(1,1),\n",
    "       5:(-1,2),\n",
    "       6:(-3,1),\n",
    "       7:(-3,-1),\n",
    "       8:(-1,-2),\n",
    "       9:(1,-1),\n",
    "       10:(-1,0)\n",
    "      }\n",
    "\n",
    "# draw graph using networkx library\n",
    "nx.draw(G,pos=layout,labels=labels, node_size=2550, node_color = 'xkcd:azure', font_size=9.5,\\\n",
    "        font_color='xkcd:ivory', width=3, alpha=0.97, font_weight='bold', node_shape = 's')\n",
    "\n",
    "plt.show()\n"
   ]
  },
  {
   "cell_type": "markdown",
   "metadata": {},
   "source": [
    "## Validate  Results"
   ]
  },
  {
   "cell_type": "markdown",
   "metadata": {},
   "source": [
    "Our graph above using *nx.draw()* appears to be consistent with the initial diagram from the assignment instructions.\n",
    "NetworkX() also provides a built-in function, `karckhardt_kite_graph()`, that can be used to draw the graph:  Per the NetworkX documentation, the default node order is as follows:\n",
    "\n",
    "Andre=1, Beverley=2, Carol=3, Diane=4, Ed=5, Fernando=6, Garth=7, Heather=8, Ike=9, Jane=10.\n",
    "\n",
    "Let's verify that this graph is similar to our prior result.\n"
   ]
  },
  {
   "cell_type": "code",
   "execution_count": 13,
   "metadata": {},
   "outputs": [
    {
     "data": {
      "image/png": "[encoded data removed]",
      "text/plain": [
       "<matplotlib.figure.Figure at 0x29f0d1c9c88>"
      ]
     },
     "metadata": {},
     "output_type": "display_data"
    }
   ],
   "source": [
    "# initialize graph using built-in krackhardt kite function\n",
    "G2 = nx.krackhardt_kite_graph()\n",
    "\n",
    "# assign node names using documentation for krackhard_kite_graph().  Indexing starts at 0 rather than 1.\n",
    "labels = {0:'Andre',1:'Beverley', 2:'Carol', 3:'Diane', 4:'Ed', 5:'Fernando',6:'Garth', 7:'Heather', 8:'Ike',9:'Jane'}\n",
    "\n",
    "# use similar layout as implemented in prior graph\n",
    "layout = {9:(7,0),\n",
    "       8:(5,0),\n",
    "       7:(3,0),\n",
    "       5:(1,1),\n",
    "       2:(-1,2),\n",
    "       0:(-3,1),\n",
    "       1:(-3,-1),\n",
    "       4:(-1,-2),\n",
    "       6:(1,-1),\n",
    "       3:(-1,0)\n",
    "      }\n",
    "\n",
    "# draw graph \n",
    "nx.draw(G2,pos=layout,labels=labels, node_size=2550, node_color = 'xkcd:darkblue', font_size=9.5,\\\n",
    "        font_color='xkcd:lightblue', width=2, font_weight='bold')\n",
    "\n",
    "plt.show()\n"
   ]
  },
  {
   "cell_type": "markdown",
   "metadata": {},
   "source": [
    "Besides the slight formatting differences, the graph using the `krackhardt_kite_graph()` function is identical to the more manual approach using standard NetworkX functions"
   ]
  },
  {
   "cell_type": "markdown",
   "metadata": {},
   "source": [
    "## Krackhardt Graph Metrics"
   ]
  },
  {
   "cell_type": "markdown",
   "metadata": {},
   "source": [
    "### Basic Metrics"
   ]
  },
  {
   "cell_type": "markdown",
   "metadata": {},
   "source": [
    "Below, we look at a few very basic descriptive statistics related to the Krackhardt graph:  number of edges, number of nodes, and graph diameter:\n"
   ]
  },
  {
   "cell_type": "code",
   "execution_count": 149,
   "metadata": {},
   "outputs": [
    {
     "name": "stdout",
     "output_type": "stream",
     "text": [
      "number of edges: 18\n",
      "number of nodes: 10\n",
      "graph diameter: 4\n"
     ]
    }
   ],
   "source": [
    "# number of edges\n",
    "print(\"number of edges: \" + str(G.number_of_edges()))\n",
    "\n",
    "# number of nodes\n",
    "print(\"number of nodes: \" + str(G.number_of_nodes()))\n",
    "\n",
    "# graph diameter\n",
    "print(\"graph diameter: \" + str(nx.diameter(G)))\n"
   ]
  },
  {
   "cell_type": "markdown",
   "metadata": {},
   "source": [
    "Each node in the Krackhardt graph represents an individual.  Our calculation above indicates 10 unique individuals in the network.  We also calculated 18 edges in the graph.  Each edge of the graph represents a connection between a pair of individuals in the network. Finally, the diameter of the graph is 4.  This number represents the maximum number of edges that must be traversed between any two pair of nodes.  Without doing any complex calculations, we can  see that the distance from Jane to multiple, other nodes is 4.\n"
   ]
  },
  {
   "cell_type": "markdown",
   "metadata": {},
   "source": [
    "### Neighbors"
   ]
  },
  {
   "cell_type": "markdown",
   "metadata": {},
   "source": [
    "Now, let's calculate the number of neighbors associated with each node, and explicitly list out the names of each neighbor.  A neighbor is defined as a node that is directly connected to a another node by a single edge.  \n"
   ]
  },
  {
   "cell_type": "code",
   "execution_count": 153,
   "metadata": {},
   "outputs": [
    {
     "data": {
      "text/html": [
       "<div>\n",
       "<style>\n",
       "    .dataframe thead tr:only-child th {\n",
       "        text-align: right;\n",
       "    }\n",
       "\n",
       "    .dataframe thead th {\n",
       "        text-align: left;\n",
       "    }\n",
       "\n",
       "    .dataframe tbody tr th {\n",
       "        vertical-align: top;\n",
       "    }\n",
       "</style>\n",
       "<table border=\"1\" class=\"dataframe\">\n",
       "  <thead>\n",
       "    <tr style=\"text-align: right;\">\n",
       "      <th></th>\n",
       "      <th>node_nm</th>\n",
       "      <th>num_neighbors</th>\n",
       "      <th>neighbor_list</th>\n",
       "    </tr>\n",
       "  </thead>\n",
       "  <tbody>\n",
       "    <tr>\n",
       "      <th>0</th>\n",
       "      <td>Jane</td>\n",
       "      <td>1</td>\n",
       "      <td>[Ike]</td>\n",
       "    </tr>\n",
       "    <tr>\n",
       "      <th>1</th>\n",
       "      <td>Ike</td>\n",
       "      <td>2</td>\n",
       "      <td>[Jane, Heather]</td>\n",
       "    </tr>\n",
       "    <tr>\n",
       "      <th>2</th>\n",
       "      <td>Heather</td>\n",
       "      <td>3</td>\n",
       "      <td>[Garth, Ike, Fernando]</td>\n",
       "    </tr>\n",
       "    <tr>\n",
       "      <th>3</th>\n",
       "      <td>Fernando</td>\n",
       "      <td>5</td>\n",
       "      <td>[Garth, Diane, Heather, Carol, Andre]</td>\n",
       "    </tr>\n",
       "    <tr>\n",
       "      <th>4</th>\n",
       "      <td>Carol</td>\n",
       "      <td>3</td>\n",
       "      <td>[Diane, Fernando, Andre]</td>\n",
       "    </tr>\n",
       "    <tr>\n",
       "      <th>5</th>\n",
       "      <td>Andre</td>\n",
       "      <td>4</td>\n",
       "      <td>[Diane, Fernando, Carol, Beverly]</td>\n",
       "    </tr>\n",
       "    <tr>\n",
       "      <th>6</th>\n",
       "      <td>Beverly</td>\n",
       "      <td>4</td>\n",
       "      <td>[Ed, Garth, Diane, Andre]</td>\n",
       "    </tr>\n",
       "    <tr>\n",
       "      <th>7</th>\n",
       "      <td>Ed</td>\n",
       "      <td>3</td>\n",
       "      <td>[Garth, Diane, Beverly]</td>\n",
       "    </tr>\n",
       "    <tr>\n",
       "      <th>8</th>\n",
       "      <td>Garth</td>\n",
       "      <td>5</td>\n",
       "      <td>[Ed, Diane, Heather, Fernando, Beverly]</td>\n",
       "    </tr>\n",
       "    <tr>\n",
       "      <th>9</th>\n",
       "      <td>Diane</td>\n",
       "      <td>6</td>\n",
       "      <td>[Fernando, Carol, Andre, Beverly, Ed, Garth]</td>\n",
       "    </tr>\n",
       "  </tbody>\n",
       "</table>\n",
       "</div>"
      ],
      "text/plain": [
       "    node_nm  num_neighbors                                 neighbor_list\n",
       "0      Jane              1                                         [Ike]\n",
       "1       Ike              2                               [Jane, Heather]\n",
       "2   Heather              3                        [Garth, Ike, Fernando]\n",
       "3  Fernando              5         [Garth, Diane, Heather, Carol, Andre]\n",
       "4     Carol              3                      [Diane, Fernando, Andre]\n",
       "5     Andre              4             [Diane, Fernando, Carol, Beverly]\n",
       "6   Beverly              4                     [Ed, Garth, Diane, Andre]\n",
       "7        Ed              3                       [Garth, Diane, Beverly]\n",
       "8     Garth              5       [Ed, Diane, Heather, Fernando, Beverly]\n",
       "9     Diane              6  [Fernando, Carol, Andre, Beverly, Ed, Garth]"
      ]
     },
     "execution_count": 153,
     "metadata": {},
     "output_type": "execute_result"
    }
   ],
   "source": [
    "# for each node, calculate number of neighbors, and produce neighbor list  \n",
    "neighbors = pd.DataFrame((names[i-1], len([names[j-1] for j in G.neighbors(i)]),\\\n",
    "             [names[j-1] for j in G.neighbors(i)]) for i in G.nodes())\n",
    "\n",
    "neighbors.columns = ['node_nm','num_neighbors','neighbor_list']\n",
    "\n",
    "neighbors\n"
   ]
  },
  {
   "cell_type": "markdown",
   "metadata": {},
   "source": [
    "Here is a visual depiction of the number of neighbors by node:"
   ]
  },
  {
   "cell_type": "code",
   "execution_count": 154,
   "metadata": {
    "scrolled": true
   },
   "outputs": [
    {
     "data": {
      "image/png": "[encoded data removed]",
      "text/plain": [
       "<matplotlib.figure.Figure at 0x29f0e6046d8>"
      ]
     },
     "metadata": {},
     "output_type": "display_data"
    }
   ],
   "source": [
    "# bar plot of number of neighbors by node\n",
    "neighbors = neighbors.sort_values('num_neighbors')\n",
    "plt.barh(np.arange(len(neighbors['node_nm'])),neighbors['num_neighbors'], alpha = 0.8)\n",
    "plt.yticks(np.arange(len(neighbors['node_nm'])),neighbors['node_nm'])\n",
    "plt.title('Number of Neighbors by Node')\n",
    "plt.show()\n"
   ]
  },
  {
   "cell_type": "markdown",
   "metadata": {},
   "source": [
    "## Screencast-O-Matic Commentary"
   ]
  },
  {
   "cell_type": "markdown",
   "metadata": {},
   "source": [
    "https://screencast-o-matic.com/watch/cFQXV1qGtH"
   ]
  },
  {
   "cell_type": "markdown",
   "metadata": {},
   "source": [
    "## References"
   ]
  },
  {
   "cell_type": "markdown",
   "metadata": {
    "collapsed": true
   },
   "source": [
    "-https://networkx.github.io/documentation/networkx-1.9/reference/generated/networkx.drawing.nx_pylab.draw_networkx.html  \n",
    "-https://networkx.github.io/documentation/stable/reference/drawing.html  \n",
    "-https://networkx.github.io/documentation/networkx-1.10/reference/generated/networkx.generators.small.krackhardt_kite_graph.html  \n",
    "-https://networkx.github.io/documentation/networkx-1.10/reference/generated/networkx.algorithms.distance_measures.diameter.html  \n",
    "Tsvetovat, Maksim, and Alexander Kouznetsov. *Social Network Analysis for Startups*. OReilly, 2012, pp 25-35."
   ]
  }
 ],
 "metadata": {
  "kernelspec": {
   "display_name": "Python 3",
   "language": "python",
   "name": "python3"
  },
  "language_info": {
   "codemirror_mode": {
    "name": "ipython",
    "version": 3
   },
   "file_extension": ".py",
   "mimetype": "text/x-python",
   "name": "python",
   "nbconvert_exporter": "python",
   "pygments_lexer": "ipython3",
   "version": "3.5.3"
  }
 },
 "nbformat": 4,
 "nbformat_minor": 2
}
