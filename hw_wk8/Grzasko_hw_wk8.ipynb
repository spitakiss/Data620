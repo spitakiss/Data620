{
 "cells": [
  {
   "cell_type": "markdown",
   "metadata": {},
   "source": [
    "# Data 620: Homework  Week 8\n",
    "### Aaron Grzasko\n",
    "### 10/21/2018"
   ]
  },
  {
   "cell_type": "markdown",
   "metadata": {},
   "source": [
    "## Assignment Instructions"
   ]
  },
  {
   "cell_type": "markdown",
   "metadata": {},
   "source": [
    "1. Choose a corpus of interest.\n",
    "2. How many total unique words are in the corpus? (Please feel free to define unique words in any interesting,\n",
    "defensible way).\n",
    "3. Taking the most common words, how many unique words represent half of the total words in the corpus?\n",
    "4. Identify the 200 highest frequency words in this corpus.\n",
    "5. Create a graph that shows the relative frequency of these 200 words.\n",
    "6. Does the observed relative frequency of these words follow Zipf’s law? Explain.\n",
    "7. In what ways do you think the frequency of the words in this corpus differ from “all words in all corpora.”"
   ]
  },
  {
   "cell_type": "markdown",
   "metadata": {},
   "source": [
    "## 1. Corpus"
   ]
  },
  {
   "cell_type": "markdown",
   "metadata": {},
   "source": [
    "In this assignment, I analyze tweets from President Trump's Twitter account.  I use the *python-twitter* library to access tweet data via the Twitter API. \n",
    "\n",
    "To use the Twitter API, I first needed to create a Twitter developer account--see https://developer.twitter.com/.  Here are the setup steps:\n",
    "* Go to the URL above.\n",
    "* Click on the Apply button. Then click \"Apply for developer account\".\n",
    "* Log in with your personal Twitter account credentials.\n",
    "* Go to Apps -> \"Create an app\". \n",
    "* Fill out the form as required.\n",
    "\n",
    "When finished with the setup, I was provided with the API keys and tokens required to work with the API.\n"
   ]
  },
  {
   "cell_type": "markdown",
   "metadata": {},
   "source": [
    "Let's begin by downloading relevant libraries:"
   ]
  },
  {
   "cell_type": "code",
   "execution_count": 1,
   "metadata": {},
   "outputs": [
    {
     "name": "stdout",
     "output_type": "stream",
     "text": [
      "showing info https://raw.githubusercontent.com/nltk/nltk_data/gh-pages/index.xml\n"
     ]
    }
   ],
   "source": [
    "# import relevant python libraries\n",
    "import twitter  # python-twitter library, this was pip-installed\n",
    "import time\n",
    "import json\n",
    "import nltk\n",
    "import nltk.corpus\n",
    "import numpy as np\n",
    "import matplotlib.pyplot as plt\n",
    "\n",
    "#from nltk.corpus import stopwords\n",
    "import re\n",
    "from nltk.text import Text \n",
    "nltk.download() # download nltk collections from nltk book\n",
    "\n",
    "%matplotlib inline"
   ]
  },
  {
   "cell_type": "markdown",
   "metadata": {},
   "source": [
    "I stored my API credentials in file located in the working directory.   In the script below, I load the credentials into python."
   ]
  },
  {
   "cell_type": "code",
   "execution_count": 2,
   "metadata": {},
   "outputs": [],
   "source": [
    "# read in twitter API credential file \n",
    "\"\"\"\n",
    "Credential file is in this format:\n",
    "    {\n",
    "        \"consumer_key\":\"your_ck\"\n",
    "        \"consumer_secret\":\"your_cs\n",
    "        \"access_token_key\":\"your_atk\",\n",
    "        \"access_token_secret\":\"your_ats\n",
    "    }\n",
    "\"\"\"\n",
    "\n",
    "f = open('.cred.json', 'r')\n",
    "creds = json.load(f)\n",
    "f.close()\n"
   ]
  },
  {
   "cell_type": "markdown",
   "metadata": {},
   "source": [
    "Below, I verify that the credentials are valid."
   ]
  },
  {
   "cell_type": "code",
   "execution_count": 3,
   "metadata": {},
   "outputs": [
    {
     "data": {
      "text/plain": [
       "User(ID=858508304661839875, ScreenName=agrzasko)"
      ]
     },
     "execution_count": 3,
     "metadata": {},
     "output_type": "execute_result"
    }
   ],
   "source": [
    "# Connect to the twitter api\n",
    "twitter_api = twitter.Api(consumer_key=creds[\"consumer_key\"],\n",
    "                          consumer_secret=creds[\"consumer_secret\"],\n",
    "                          access_token_key=creds[\"access_token_key\"],\n",
    "                          access_token_secret=creds[\"access_token_secret\"],\n",
    "                          tweet_mode='extended')\n",
    "# verify credentials\n",
    "twitter_api.VerifyCredentials()\n"
   ]
  },
  {
   "cell_type": "markdown",
   "metadata": {},
   "source": [
    "I am now connected to the Twitter API.\n",
    "\n",
    "Twitter limits the number of tweets pulled within short periods of time; so I will be unable to pull the entire Trump canon (34k+ tweets) in one fell swoop.\n",
    "\n",
    "Below, I pull as many Trump tweets as the API will allow within a 15 minute interval.  \n",
    "\n",
    "*Note:  Twitter limits the number of tweet retrievals with each query to 200; so I perform multiple API queries in a loop*. \n"
   ]
  },
  {
   "cell_type": "code",
   "execution_count": null,
   "metadata": {},
   "outputs": [],
   "source": [
    "# get latest trump tweets in max size, append tweet text to list\n",
    "tweet_list = []\n",
    "tweets = twitter_api.GetUserTimeline(screen_name=\"realDonaldTrump\", count=200)\n",
    "for s in tweets:\n",
    "    tweet_list.append(s.full_text)\n",
    "\n",
    "# get as many additional, historical tweets as the api will allow,\n",
    "# given rate limit constraints\n",
    "for i in range(200):\n",
    "    try:\n",
    "        # pull tweets with id <= last id from previous pull\n",
    "        tweets = twitter_api.GetUserTimeline(screen_name=\"realDonaldTrump\", \\\n",
    "                                             count=200, \\\n",
    "                                             max_id = tweets[len(tweets)-1].id)\n",
    "        # first tweet in new pull is a duplicate; delete\n",
    "        tweets.pop(0) \n",
    "        \n",
    "        # append each new tweet to tweet_list\n",
    "        for s in tweets:\n",
    "            tweet_list.append(s.full_text)\n",
    "        time.sleep(0.2)\n",
    "    except:\n",
    "        print(\"Reached the end, or there was an error!\")\n",
    "        break\n",
    "   \n"
   ]
  },
  {
   "cell_type": "markdown",
   "metadata": {},
   "source": [
    "Let's save the tweet data to a text file in the working directory.  "
   ]
  },
  {
   "cell_type": "code",
   "execution_count": null,
   "metadata": {},
   "outputs": [],
   "source": [
    "# write tweet to txt file\n",
    "with open('trump_tweets.txt', 'w', encoding=\"utf-8\") as f:\n",
    "    for item in tweet_list:\n",
    "        f.write(\"%s\\n\" % item) "
   ]
  },
  {
   "cell_type": "markdown",
   "metadata": {},
   "source": [
    "Now I will read in the tweet file:"
   ]
  },
  {
   "cell_type": "code",
   "execution_count": 8,
   "metadata": {},
   "outputs": [],
   "source": [
    "# read in trump tweet text file       \n",
    "with open(\"trump_tweets.txt\", \"r\", encoding = \"utf-8\") as f:\n",
    "    trump = f.readlines()"
   ]
  },
  {
   "cell_type": "markdown",
   "metadata": {},
   "source": [
    "Here are the number of tweets retrieved:"
   ]
  },
  {
   "cell_type": "code",
   "execution_count": 9,
   "metadata": {},
   "outputs": [
    {
     "data": {
      "text/plain": [
       "3453"
      ]
     },
     "execution_count": 9,
     "metadata": {},
     "output_type": "execute_result"
    }
   ],
   "source": [
    "# tweet count \n",
    "len(trump)"
   ]
  },
  {
   "cell_type": "markdown",
   "metadata": {},
   "source": [
    "Let's look at the first handful of tweets:"
   ]
  },
  {
   "cell_type": "code",
   "execution_count": 10,
   "metadata": {},
   "outputs": [
    {
     "data": {
      "text/plain": [
       "['Best Jobs Numbers in the history of our great Country! Many other things likewise. So why wouldn’t we win the Midterms? Dems can never do even nearly as well! Think of what will happen to your now beautiful 401-k’s!\\n',\n",
       " 'The Caravans are a disgrace to the Democrat Party. Change the immigration laws NOW!\\n',\n",
       " 'Full efforts are being made to stop the onslaught of illegal aliens from crossing our Souther Border. People have to apply for asylum in Mexico first, and if they fail to do that, the U.S. will turn them away. The courts are asking the U.S. to do things that are not doable!\\n',\n",
       " 'Watched North Dakota’s Rep. Kevin Cramer easily win debate with Senator Heidi Heitkamp. Great job Kevin, you will be a great Senator!\\n',\n",
       " 'All levels of government and Law Enforcement are watching carefully for VOTER FRAUD, including during EARLY VOTING. Cheat at your own peril. Violators will be subject to maximum penalties, both civil and criminal!\\n']"
      ]
     },
     "execution_count": 10,
     "metadata": {},
     "output_type": "execute_result"
    }
   ],
   "source": [
    "# read in first 5 tweets\n",
    "trump[0:5]"
   ]
  },
  {
   "cell_type": "markdown",
   "metadata": {},
   "source": [
    "I need to do some light cleanup of the tweet data before I can do meaningful analysis:\n"
   ]
  },
  {
   "cell_type": "code",
   "execution_count": 11,
   "metadata": {},
   "outputs": [],
   "source": [
    "# convert tweets from list to string.\n",
    "trump = \" \".join(trump)\n",
    "\n",
    "# remove URL references\n",
    "trump = re.sub('https://[\\\\w\\\\./]+','', trump) \n",
    "\n",
    "# remove hashtag references\n",
    "trump = re.sub('#\\\\w+','',trump) \n",
    "\n",
    "# remove retweet abbreviation \n",
    "trump = trump.replace(\"RT @\",\" @\")\n",
    "\n",
    "# remove reference to other users' twitter handles\n",
    "trump = re.sub('@[\\\\w:]+','',trump) \n",
    "\n",
    "# change \"&\" to \"and\"\n",
    "trump = trump.replace(\"&amp\",\"and\")\n"
   ]
  },
  {
   "cell_type": "markdown",
   "metadata": {},
   "source": [
    "Using the *word_tokenize()*, I can convert the tweet text to a list of strings."
   ]
  },
  {
   "cell_type": "code",
   "execution_count": 12,
   "metadata": {},
   "outputs": [],
   "source": [
    "# separate out words in list\n",
    "trump_words = nltk.word_tokenize(trump)"
   ]
  },
  {
   "cell_type": "markdown",
   "metadata": {},
   "source": [
    "Finally, I will convert all words to lower case, and retain words that only contain alphabetical characters. "
   ]
  },
  {
   "cell_type": "code",
   "execution_count": 13,
   "metadata": {},
   "outputs": [],
   "source": [
    "# convert words to lower case; keep only words with all alphabetical chars\n",
    "trump_words=[w.lower() for w in trump_words if w.isalpha()]"
   ]
  },
  {
   "cell_type": "markdown",
   "metadata": {},
   "source": [
    "## 2. Unique Words"
   ]
  },
  {
   "cell_type": "markdown",
   "metadata": {},
   "source": [
    "Below is a count of the number of unique words used in Trump's last 3,453 tweets."
   ]
  },
  {
   "cell_type": "code",
   "execution_count": 14,
   "metadata": {},
   "outputs": [
    {
     "name": "stdout",
     "output_type": "stream",
     "text": [
      "Number of unique words 6793\n"
     ]
    }
   ],
   "source": [
    "# number of unique words\n",
    "print(\"Number of unique words {}\".format(len(set(trump_words))))"
   ]
  },
  {
   "cell_type": "markdown",
   "metadata": {},
   "source": [
    "Let's see how the unique word count compares to the total word count:"
   ]
  },
  {
   "cell_type": "code",
   "execution_count": 15,
   "metadata": {},
   "outputs": [
    {
     "name": "stdout",
     "output_type": "stream",
     "text": [
      "Number of total words 91500\n"
     ]
    }
   ],
   "source": [
    "# number of total words\n",
    "print(\"Number of total words {}\".format(len(trump_words)))"
   ]
  },
  {
   "cell_type": "markdown",
   "metadata": {},
   "source": [
    "I can now calculate lexical diversity, which is simply the ratio of unique word count to total word count:"
   ]
  },
  {
   "cell_type": "code",
   "execution_count": 16,
   "metadata": {},
   "outputs": [
    {
     "name": "stdout",
     "output_type": "stream",
     "text": [
      "Lexical Diversity: 0.0742\n"
     ]
    }
   ],
   "source": [
    "# lexical diversity\n",
    "print(\"Lexical Diversity: {0:.4f}\".format(len(set(trump_words)) \\\n",
    "                                          / len(trump_words)))"
   ]
  },
  {
   "cell_type": "markdown",
   "metadata": {},
   "source": [
    "Let's now calculate the three measures above, but remove the most common Enlish words such as \"the\", \"and\", and \"a\":"
   ]
  },
  {
   "cell_type": "code",
   "execution_count": 17,
   "metadata": {},
   "outputs": [
    {
     "name": "stdout",
     "output_type": "stream",
     "text": [
      "Number of unique words, no stop words: 6648\n",
      "Number of total words, no stop words: 49165\n",
      "Lexical Diversity, no stop_words: 0.1352\n"
     ]
    }
   ],
   "source": [
    "# remove stop words from word list\n",
    "trump_words_nostop = [w for w in trump_words if \\\n",
    "                      w not in nltk.corpus.stopwords.words('english')]\n",
    "\n",
    "# number of unique words\n",
    "print(\"Number of unique words, no stop words: {}\".format(len(set(trump_words_nostop))))\n",
    "\n",
    "# number of total words\n",
    "print(\"Number of total words, no stop words: {}\".format(len(trump_words_nostop)))\n",
    "      \n",
    "# lexical diversity\n",
    "print(\"Lexical Diversity, no stop_words: {0:.4f}\".format(len(set(trump_words_nostop)) \\\n",
    "                                          / len(trump_words_nostop)))"
   ]
  },
  {
   "cell_type": "markdown",
   "metadata": {},
   "source": [
    "## 3. Words Representing Half of Corpus"
   ]
  },
  {
   "cell_type": "markdown",
   "metadata": {},
   "source": [
    "In this section, I will determine the minimum number of unique words necessary to represent 50% of the total words used in Trump's tweets.  \n",
    "\n",
    "To do this, I will use a custom function.  The function does the following:\n",
    "* sorts the word_counts for each word in descending order.\n",
    "* determines the 50th percentile location, given the total word count of the corpus\n",
    "* returns the appropriate word number representing the median, given a word list sorted in descending order by count. "
   ]
  },
  {
   "cell_type": "code",
   "execution_count": 18,
   "metadata": {},
   "outputs": [],
   "source": [
    "# custom function to calculate median\n",
    "def median_word_ct(words):\n",
    "        \n",
    "    # sort (words,count) in descending order\n",
    "    sorted_freq = sorted([(k,v) for k,v in dict(nltk.FreqDist(words)).items()],\\\n",
    "              key=lambda x: x[1], reverse=True)\n",
    "    # counts only\n",
    "    counts = list(zip(*sorted_freq))[1]\n",
    "    \n",
    "    # find median location in word list\n",
    "    median_loc = (len(words) + 1)*0.5\n",
    "    \n",
    "    # loop through count figures, calc cumulative totals\n",
    "    total = 0\n",
    "    index = -1 # start at -1 because we want our first incremented value to be 0\n",
    "    for ct in counts:\n",
    "        index += 1\n",
    "        total += ct\n",
    "        if total >= median_loc:\n",
    "            return(index) # return index location location of median\n"
   ]
  },
  {
   "cell_type": "markdown",
   "metadata": {},
   "source": [
    " Here is the number of words necessary to represent 50% of the corpus:"
   ]
  },
  {
   "cell_type": "code",
   "execution_count": 19,
   "metadata": {},
   "outputs": [
    {
     "data": {
      "text/plain": [
       "96"
      ]
     },
     "execution_count": 19,
     "metadata": {},
     "output_type": "execute_result"
    }
   ],
   "source": [
    "# find number of words that represent 50% of corpus        \n",
    "median_word_ct(trump_words) "
   ]
  },
  {
   "cell_type": "markdown",
   "metadata": {},
   "source": [
    "Let's calculate the required word count again, but exclude all stop words from the corpus:"
   ]
  },
  {
   "cell_type": "code",
   "execution_count": 20,
   "metadata": {},
   "outputs": [
    {
     "data": {
      "text/plain": [
       "334"
      ]
     },
     "execution_count": 20,
     "metadata": {},
     "output_type": "execute_result"
    }
   ],
   "source": [
    "# find number of non stop words that represent 50% of corpus        \n",
    "median_word_ct(trump_words_nostop) "
   ]
  },
  {
   "cell_type": "markdown",
   "metadata": {},
   "source": [
    "## 4. Top 200 Words"
   ]
  },
  {
   "cell_type": "markdown",
   "metadata": {},
   "source": [
    "Below are the top 200 most common words from the entire Trump tweet corpus:"
   ]
  },
  {
   "cell_type": "code",
   "execution_count": 21,
   "metadata": {},
   "outputs": [
    {
     "data": {
      "text/plain": [
       "[('the', 4640),\n",
       " ('and', 3144),\n",
       " ('to', 2545),\n",
       " ('of', 2011),\n",
       " ('a', 1641),\n",
       " ('is', 1418),\n",
       " ('in', 1401),\n",
       " ('for', 1092),\n",
       " ('on', 933),\n",
       " ('our', 894),\n",
       " ('are', 865),\n",
       " ('that', 799),\n",
       " ('i', 778),\n",
       " ('great', 771),\n",
       " ('will', 760),\n",
       " ('with', 760),\n",
       " ('we', 754),\n",
       " ('be', 717),\n",
       " ('it', 674),\n",
       " ('they', 573),\n",
       " ('have', 538),\n",
       " ('you', 524),\n",
       " ('was', 503),\n",
       " ('at', 481),\n",
       " ('this', 452),\n",
       " ('he', 414),\n",
       " ('has', 410),\n",
       " ('not', 409),\n",
       " ('people', 373),\n",
       " ('all', 372),\n",
       " ('t', 370),\n",
       " ('s', 354),\n",
       " ('by', 346),\n",
       " ('my', 342),\n",
       " ('very', 328),\n",
       " ('so', 319),\n",
       " ('as', 315),\n",
       " ('who', 306),\n",
       " ('president', 303),\n",
       " ('trump', 301),\n",
       " ('from', 283),\n",
       " ('no', 282),\n",
       " ('just', 280),\n",
       " ('country', 273),\n",
       " ('now', 266),\n",
       " ('their', 262),\n",
       " ('news', 252),\n",
       " ('more', 250),\n",
       " ('big', 248),\n",
       " ('his', 245),\n",
       " ('but', 241),\n",
       " ('there', 239),\n",
       " ('many', 238),\n",
       " ('thank', 237),\n",
       " ('democrats', 237),\n",
       " ('fake', 222),\n",
       " ('been', 213),\n",
       " ('america', 205),\n",
       " ('out', 203),\n",
       " ('today', 203),\n",
       " ('or', 203),\n",
       " ('about', 201),\n",
       " ('an', 201),\n",
       " ('than', 197),\n",
       " ('would', 194),\n",
       " ('do', 190),\n",
       " ('much', 185),\n",
       " ('get', 181),\n",
       " ('time', 181),\n",
       " ('can', 178),\n",
       " ('trade', 178),\n",
       " ('good', 177),\n",
       " ('what', 172),\n",
       " ('new', 171),\n",
       " ('must', 170),\n",
       " ('up', 168),\n",
       " ('your', 167),\n",
       " ('want', 166),\n",
       " ('if', 165),\n",
       " ('border', 163),\n",
       " ('tax', 159),\n",
       " ('make', 156),\n",
       " ('me', 154),\n",
       " ('american', 151),\n",
       " ('should', 149),\n",
       " ('never', 148),\n",
       " ('crime', 147),\n",
       " ('fbi', 147),\n",
       " ('years', 145),\n",
       " ('military', 142),\n",
       " ('being', 141),\n",
       " ('again', 141),\n",
       " ('back', 140),\n",
       " ('when', 136),\n",
       " ('into', 135),\n",
       " ('them', 132),\n",
       " ('which', 131),\n",
       " ('house', 130),\n",
       " ('don', 129),\n",
       " ('had', 129),\n",
       " ('going', 129),\n",
       " ('jobs', 128),\n",
       " ('one', 127),\n",
       " ('united', 126),\n",
       " ('state', 124),\n",
       " ('doing', 124),\n",
       " ('only', 124),\n",
       " ('media', 124),\n",
       " ('ever', 123),\n",
       " ('even', 122),\n",
       " ('vote', 122),\n",
       " ('states', 122),\n",
       " ('russia', 122),\n",
       " ('north', 120),\n",
       " ('because', 118),\n",
       " ('first', 117),\n",
       " ('job', 117),\n",
       " ('election', 117),\n",
       " ('korea', 117),\n",
       " ('collusion', 116),\n",
       " ('day', 115),\n",
       " ('bad', 114),\n",
       " ('done', 113),\n",
       " ('win', 110),\n",
       " ('honor', 110),\n",
       " ('witch', 110),\n",
       " ('strong', 109),\n",
       " ('hunt', 109),\n",
       " ('obama', 108),\n",
       " ('security', 108),\n",
       " ('like', 107),\n",
       " ('year', 106),\n",
       " ('other', 105),\n",
       " ('why', 105),\n",
       " ('made', 105),\n",
       " ('over', 105),\n",
       " ('campaign', 105),\n",
       " ('really', 102),\n",
       " ('total', 101),\n",
       " ('were', 100),\n",
       " ('hillary', 100),\n",
       " ('dems', 99),\n",
       " ('also', 98),\n",
       " ('working', 98),\n",
       " ('hard', 98),\n",
       " ('after', 97),\n",
       " ('world', 97),\n",
       " ('better', 96),\n",
       " ('us', 96),\n",
       " ('china', 96),\n",
       " ('most', 95),\n",
       " ('republicans', 94),\n",
       " ('immigration', 93),\n",
       " ('deal', 93),\n",
       " ('cuts', 92),\n",
       " ('need', 91),\n",
       " ('economy', 91),\n",
       " ('see', 90),\n",
       " ('meeting', 90),\n",
       " ('down', 90),\n",
       " ('how', 90),\n",
       " ('look', 89),\n",
       " ('way', 88),\n",
       " ('am', 88),\n",
       " ('history', 87),\n",
       " ('congratulations', 87),\n",
       " ('last', 86),\n",
       " ('long', 86),\n",
       " ('before', 85),\n",
       " ('go', 85),\n",
       " ('looking', 83),\n",
       " ('law', 82),\n",
       " ('these', 82),\n",
       " ('borders', 80),\n",
       " ('said', 79),\n",
       " ('work', 79),\n",
       " ('congress', 79),\n",
       " ('national', 79),\n",
       " ('justice', 78),\n",
       " ('against', 78),\n",
       " ('clinton', 78),\n",
       " ('well', 77),\n",
       " ('illegal', 77),\n",
       " ('forward', 77),\n",
       " ('wall', 77),\n",
       " ('senate', 76),\n",
       " ('know', 76),\n",
       " ('comey', 76),\n",
       " ('take', 75),\n",
       " ('did', 75),\n",
       " ('nothing', 75),\n",
       " ('crooked', 75),\n",
       " ('where', 74),\n",
       " ('bill', 74),\n",
       " ('she', 73),\n",
       " ('him', 73),\n",
       " ('white', 72),\n",
       " ('record', 71),\n",
       " ('together', 71),\n",
       " ('republican', 70)]"
      ]
     },
     "execution_count": 21,
     "metadata": {},
     "output_type": "execute_result"
    }
   ],
   "source": [
    "# frequency dist\n",
    "fdist = nltk.FreqDist(trump_words)\n",
    "\n",
    "# Topp 200 words, all corpus\n",
    "fdist.most_common(200)"
   ]
  },
  {
   "cell_type": "markdown",
   "metadata": {},
   "source": [
    "As expected, the top of the list comprises very common English words (e.g. \"the\", \"and\", and \"to\").  \n",
    "\n",
    "I can create a more interesting list by excluding the stopwords:"
   ]
  },
  {
   "cell_type": "code",
   "execution_count": 22,
   "metadata": {},
   "outputs": [
    {
     "data": {
      "text/plain": [
       "[('great', 771),\n",
       " ('people', 373),\n",
       " ('president', 303),\n",
       " ('trump', 301),\n",
       " ('country', 273),\n",
       " ('news', 252),\n",
       " ('big', 248),\n",
       " ('many', 238),\n",
       " ('thank', 237),\n",
       " ('democrats', 237),\n",
       " ('fake', 222),\n",
       " ('america', 205),\n",
       " ('today', 203),\n",
       " ('would', 194),\n",
       " ('much', 185),\n",
       " ('get', 181),\n",
       " ('time', 181),\n",
       " ('trade', 178),\n",
       " ('good', 177),\n",
       " ('new', 171),\n",
       " ('must', 170),\n",
       " ('want', 166),\n",
       " ('border', 163),\n",
       " ('tax', 159),\n",
       " ('make', 156),\n",
       " ('american', 151),\n",
       " ('never', 148),\n",
       " ('crime', 147),\n",
       " ('fbi', 147),\n",
       " ('years', 145),\n",
       " ('military', 142),\n",
       " ('back', 140),\n",
       " ('house', 130),\n",
       " ('going', 129),\n",
       " ('jobs', 128),\n",
       " ('one', 127),\n",
       " ('united', 126),\n",
       " ('state', 124),\n",
       " ('media', 124),\n",
       " ('ever', 123),\n",
       " ('even', 122),\n",
       " ('vote', 122),\n",
       " ('states', 122),\n",
       " ('russia', 122),\n",
       " ('north', 120),\n",
       " ('first', 117),\n",
       " ('job', 117),\n",
       " ('election', 117),\n",
       " ('korea', 117),\n",
       " ('collusion', 116),\n",
       " ('day', 115),\n",
       " ('bad', 114),\n",
       " ('done', 113),\n",
       " ('win', 110),\n",
       " ('honor', 110),\n",
       " ('witch', 110),\n",
       " ('strong', 109),\n",
       " ('hunt', 109),\n",
       " ('obama', 108),\n",
       " ('security', 108),\n",
       " ('like', 107),\n",
       " ('year', 106),\n",
       " ('made', 105),\n",
       " ('campaign', 105),\n",
       " ('really', 102),\n",
       " ('total', 101),\n",
       " ('hillary', 100),\n",
       " ('dems', 99),\n",
       " ('also', 98),\n",
       " ('working', 98),\n",
       " ('hard', 98),\n",
       " ('world', 97),\n",
       " ('better', 96),\n",
       " ('us', 96),\n",
       " ('china', 96),\n",
       " ('republicans', 94),\n",
       " ('immigration', 93),\n",
       " ('deal', 93),\n",
       " ('cuts', 92),\n",
       " ('need', 91),\n",
       " ('economy', 91),\n",
       " ('see', 90),\n",
       " ('meeting', 90),\n",
       " ('look', 89),\n",
       " ('way', 88),\n",
       " ('history', 87),\n",
       " ('congratulations', 87),\n",
       " ('last', 86),\n",
       " ('long', 86),\n",
       " ('go', 85),\n",
       " ('looking', 83),\n",
       " ('law', 82),\n",
       " ('borders', 80),\n",
       " ('said', 79),\n",
       " ('work', 79),\n",
       " ('congress', 79),\n",
       " ('national', 79),\n",
       " ('justice', 78),\n",
       " ('clinton', 78),\n",
       " ('well', 77),\n",
       " ('illegal', 77),\n",
       " ('forward', 77),\n",
       " ('wall', 77),\n",
       " ('senate', 76),\n",
       " ('know', 76),\n",
       " ('comey', 76),\n",
       " ('take', 75),\n",
       " ('nothing', 75),\n",
       " ('crooked', 75),\n",
       " ('bill', 74),\n",
       " ('white', 72),\n",
       " ('record', 71),\n",
       " ('together', 71),\n",
       " ('republican', 70),\n",
       " ('governor', 68),\n",
       " ('dollars', 68),\n",
       " ('making', 68),\n",
       " ('coming', 68),\n",
       " ('administration', 67),\n",
       " ('happy', 67),\n",
       " ('taxes', 65),\n",
       " ('support', 65),\n",
       " ('full', 64),\n",
       " ('help', 64),\n",
       " ('endorsement', 64),\n",
       " ('come', 64),\n",
       " ('loves', 64),\n",
       " ('countries', 64),\n",
       " ('things', 63),\n",
       " ('right', 63),\n",
       " ('court', 63),\n",
       " ('love', 63),\n",
       " ('always', 62),\n",
       " ('far', 61),\n",
       " ('getting', 61),\n",
       " ('high', 61),\n",
       " ('daca', 61),\n",
       " ('since', 60),\n",
       " ('wonderful', 60),\n",
       " ('totally', 59),\n",
       " ('massive', 59),\n",
       " ('women', 59),\n",
       " ('laws', 57),\n",
       " ('florida', 57),\n",
       " ('everyone', 57),\n",
       " ('night', 56),\n",
       " ('vets', 56),\n",
       " ('others', 56),\n",
       " ('nation', 56),\n",
       " ('stop', 55),\n",
       " ('soon', 55),\n",
       " ('got', 55),\n",
       " ('every', 54),\n",
       " ('could', 54),\n",
       " ('end', 54),\n",
       " ('phony', 54),\n",
       " ('tariffs', 54),\n",
       " ('best', 53),\n",
       " ('numbers', 53),\n",
       " ('place', 53),\n",
       " ('senator', 52),\n",
       " ('including', 52),\n",
       " ('another', 52),\n",
       " ('russian', 52),\n",
       " ('rigged', 52),\n",
       " ('pay', 52),\n",
       " ('fact', 52),\n",
       " ('mexico', 51),\n",
       " ('government', 51),\n",
       " ('money', 51),\n",
       " ('book', 51),\n",
       " ('unemployment', 51),\n",
       " ('democrat', 50),\n",
       " ('washington', 50),\n",
       " ('open', 50),\n",
       " ('office', 50),\n",
       " ('incredible', 50),\n",
       " ('tough', 50),\n",
       " ('billion', 50),\n",
       " ('donald', 49),\n",
       " ('south', 49),\n",
       " ('farmers', 49),\n",
       " ('let', 49),\n",
       " ('put', 49),\n",
       " ('running', 49),\n",
       " ('special', 49),\n",
       " ('families', 49),\n",
       " ('mueller', 49),\n",
       " ('market', 48),\n",
       " ('story', 48),\n",
       " ('say', 48),\n",
       " ('workers', 48),\n",
       " ('companies', 48),\n",
       " ('tonight', 47),\n",
       " ('weak', 47),\n",
       " ('cut', 47),\n",
       " ('york', 46),\n",
       " ('truly', 46),\n",
       " ('give', 46),\n",
       " ('two', 46)]"
      ]
     },
     "execution_count": 22,
     "metadata": {},
     "output_type": "execute_result"
    }
   ],
   "source": [
    "# frequency dist, no stop words\n",
    "fdist_nostop = nltk.FreqDist(trump_words_nostop)\n",
    "\n",
    "# Top 200 words, no stop words\n",
    "fdist_nostop.most_common(200)"
   ]
  },
  {
   "cell_type": "markdown",
   "metadata": {},
   "source": [
    "# 5. Graphs"
   ]
  },
  {
   "cell_type": "markdown",
   "metadata": {},
   "source": [
    "Here is a cumulative, relative frequency plot for the top 200 words:"
   ]
  },
  {
   "cell_type": "code",
   "execution_count": 23,
   "metadata": {},
   "outputs": [
    {
     "data": {
      "image/png": "[encoded data removed]",
      "text/plain": [
       "<Figure size 1440x720 with 1 Axes>"
      ]
     },
     "metadata": {
      "needs_background": "light"
     },
     "output_type": "display_data"
    }
   ],
   "source": [
    "# convert frequency distribution to dictionary\n",
    "fdist_relative = dict(fdist)\n",
    "\n",
    "# calculate relative frequencies instead of raw counts\n",
    "for k,v in fdist_relative.items():\n",
    "    fdist_relative[k] = v / len(trump_words)\n",
    "\n",
    "# convert back to FreqDist object\n",
    "fdist_relative = nltk.FreqDist(fdist_relative)\n",
    "\n",
    "# plot\n",
    "plt.figure(figsize=(20,10))\n",
    "fdist_relative.plot(200, cumulative=True)\n",
    "plt.show()"
   ]
  },
  {
   "cell_type": "markdown",
   "metadata": {},
   "source": [
    "The top 200 words in this plot comprise more than 60% of total words. \n",
    "\n",
    "Below is the cumulative, relative frequency plot, but removing all stop words from the corpus:"
   ]
  },
  {
   "cell_type": "code",
   "execution_count": 24,
   "metadata": {},
   "outputs": [
    {
     "data": {
      "image/png": "[encoded data removed]",
      "text/plain": [
       "<Figure size 1440x720 with 1 Axes>"
      ]
     },
     "metadata": {
      "needs_background": "light"
     },
     "output_type": "display_data"
    }
   ],
   "source": [
    "# convert frequency distribution to dictionary\n",
    "fdist_relative_nostop = dict(fdist_nostop)\n",
    "\n",
    "# calculate relative frequencies instead of raw counts\n",
    "for k,v in fdist_relative_nostop.items():\n",
    "    fdist_relative_nostop[k] = v / len(trump_words_nostop)\n",
    "\n",
    "# convert back to FreqDist object\n",
    "fdist_relative_nostop = nltk.FreqDist(fdist_relative_nostop)\n",
    "\n",
    "# plot\n",
    "plt.figure(figsize=(20,10))\n",
    "fdist_relative_nostop.plot(200, cumulative=True)\n",
    "plt.show()"
   ]
  },
  {
   "cell_type": "markdown",
   "metadata": {},
   "source": [
    "In this plot, the top 200 non-stop words comprise only about 40% of all non-stop words. "
   ]
  },
  {
   "cell_type": "markdown",
   "metadata": {},
   "source": [
    "## 6. Zipf's Law"
   ]
  },
  {
   "cell_type": "markdown",
   "metadata": {},
   "source": [
    "According to the Wikipedia entry on Zipf's law, the \"frequency of any word is inversely proportional to its rank in the frequency table.\"\n",
    "\n",
    "If this law holds, then each word will be inversely proportional to it's rank in the frequency table.  Thus, the top ranked word should appear roughly twice as often as the second ranked word, and three times as often as the third ranked word, etc.\n",
    "\n",
    "Let's look at the frequency ratios for each of the top 3 words and the ten subsequent word frequencies:"
   ]
  },
  {
   "cell_type": "code",
   "execution_count": 25,
   "metadata": {},
   "outputs": [
    {
     "name": "stdout",
     "output_type": "stream",
     "text": [
      "ratio of word 1 vs. subsequent words:\n"
     ]
    },
    {
     "data": {
      "text/plain": [
       "[1.48, 1.82, 2.31, 2.83, 3.27, 3.31, 4.25, 4.97, 5.19, 5.36]"
      ]
     },
     "execution_count": 25,
     "metadata": {},
     "output_type": "execute_result"
    }
   ],
   "source": [
    "# sorted frequency of words, word counts\n",
    "sorted_freq = sorted([(k,v) for k,v in dict(nltk.FreqDist(trump_words)).items()],\\\n",
    "              key=lambda x: x[1], reverse=True)\n",
    "# counts only\n",
    "counts = list(zip(*sorted_freq))[1]\n",
    "\n",
    "# top ranked word ratios\n",
    "word1_ratios =  [counts[0] / x for x in counts[1:len(counts)]]\n",
    "\n",
    "print(\"ratio of word 1 vs. subsequent words:\")\n",
    "[round(n, 2) for n in word1_ratios][0:10]\n"
   ]
  },
  {
   "cell_type": "code",
   "execution_count": 26,
   "metadata": {},
   "outputs": [
    {
     "name": "stdout",
     "output_type": "stream",
     "text": [
      "ratio of word 2 vs. subsquent words:\n"
     ]
    },
    {
     "data": {
      "text/plain": [
       "[1.24, 1.56, 1.92, 2.22, 2.24, 2.88, 3.37, 3.52, 3.63, 3.93]"
      ]
     },
     "execution_count": 26,
     "metadata": {},
     "output_type": "execute_result"
    }
   ],
   "source": [
    "# 2nd ranked word ratios\n",
    "word2_ratios =  [counts[1] / x for x in counts[2:len(counts)]]\n",
    "\n",
    "print(\"ratio of word 2 vs. subsquent words:\")\n",
    "[round(n, 2) for n in word2_ratios][0:10]\n"
   ]
  },
  {
   "cell_type": "code",
   "execution_count": 27,
   "metadata": {},
   "outputs": [
    {
     "name": "stdout",
     "output_type": "stream",
     "text": [
      "ratio of word 3 vs. subsquent words:\n"
     ]
    },
    {
     "data": {
      "text/plain": [
       "[1.27, 1.55, 1.79, 1.82, 2.33, 2.73, 2.85, 2.94, 3.19, 3.27]"
      ]
     },
     "execution_count": 27,
     "metadata": {},
     "output_type": "execute_result"
    }
   ],
   "source": [
    "# 3rd ranked word ratios\n",
    "word3_ratios =  [counts[2] / x for x in counts[3:len(counts)]]\n",
    "\n",
    "print(\"ratio of word 3 vs. subsquent words:\")\n",
    "[round(n, 2) for n in word3_ratios][0:10]\n"
   ]
  },
  {
   "cell_type": "markdown",
   "metadata": {},
   "source": [
    "The ratios above are significantly lower than what Zip's law would predict.  In other words, the frequency of lower ranked words do not drop off as quickly as expected under the law.\n",
    "\n",
    "If Zipf's law holds, we would also exepct a log-log  line plot of word frequency to word rank to be approximately linear.  Below is a line plot (blue) with a corresponding best-fit line (orange)."
   ]
  },
  {
   "cell_type": "code",
   "execution_count": 28,
   "metadata": {},
   "outputs": [
    {
     "data": {
      "image/png": "[encoded data removed]",
      "text/plain": [
       "<Figure size 432x288 with 1 Axes>"
      ]
     },
     "metadata": {
      "needs_background": "light"
     },
     "output_type": "display_data"
    }
   ],
   "source": [
    "# two separate tuples of word rank (x) and word count (y)\n",
    "x_y =  list(enumerate(counts,1))\n",
    "x_y = list(zip(*x_y))\n",
    "\n",
    "# plot\n",
    "fig = plt.figure()\n",
    "ax = fig.add_subplot(111)\n",
    "ax.set_xscale(\"log\")\n",
    "ax.set_yscale(\"log\")\n",
    "ax.plot(x_y[0], x_y[1])\n",
    "plt.ylabel('log frequencies')\n",
    "plt.xlabel('log rank')\n",
    "plt.title('Log Frequency vs. Log Rank')\n",
    "\n",
    "# best fit line\n",
    "x = [np.log(n) for n in x_y[0]]\n",
    "y = [np.log(n) for n in x_y[1]]\n",
    "fit = np.polyfit(x, y,1)\n",
    "fit_y = [np.exp(fit[0]*n + fit[1]) for n in x]\n",
    "ax.plot(x_y[0],fit_y)\n",
    "\n",
    "plt.show()\n"
   ]
  },
  {
   "cell_type": "markdown",
   "metadata": {},
   "source": [
    "Once again, Zipf's law does not appear to hold for the Trump tweet corpus.  The lower frequency words do not drop off as quickly as anticpated under the law.  "
   ]
  },
  {
   "cell_type": "markdown",
   "metadata": {},
   "source": [
    "## Trump Corpus vs. All Corpora"
   ]
  },
  {
   "cell_type": "markdown",
   "metadata": {},
   "source": [
    "The writing on Twitter tends to be significantly different than the styles in other written media, such as as books, articles, or blogs.  Tweets are constrained to a very small number of characters; so the writing is forced to be brief and to-the-point. Abbreviations are common.  Spelling errors are also more likely on Twitter compared to other--more heavily edited--media.      \n",
    "\n",
    "Therefore, I would not expect the Trump Twitter corpus to be very similar to broad-based corpora.\n",
    "\n",
    "The messages on Trump's twitter feed are mostly political in nature; so the word frequencies could be similar to corpora with a focus on political rhetoric."
   ]
  },
  {
   "cell_type": "markdown",
   "metadata": {},
   "source": [
    "## Video Commentary"
   ]
  },
  {
   "cell_type": "markdown",
   "metadata": {},
   "source": [
    "http://youtu.be/Au_Jcv8AliE?hd=1"
   ]
  },
  {
   "cell_type": "markdown",
   "metadata": {},
   "source": [
    "## References"
   ]
  },
  {
   "cell_type": "markdown",
   "metadata": {},
   "source": [
    "* Trump and Twitter API: https://medium.freecodecamp.org/learn-python-by-analyzing-donald-trumps-tweets-ccdf156cb5a3\n",
    "* Twitter developer setup: https://developer.twitter.com/\n",
    "* Zipf's law: https://en.wikipedia.org/wiki/Zipf%27s_law\n",
    "* log-log scales in matplotlib: https://stackoverflow.com/questions/43837179/best-fit-line-on-log-log-scales-in-python-2-7\n",
    "* “Natural Language Processing with Python.” NLTK Book, www.nltk.org/book/.\n",
    "\n"
   ]
  }
 ],
 "metadata": {
  "kernelspec": {
   "display_name": "Python 3",
   "language": "python",
   "name": "python3"
  },
  "language_info": {
   "codemirror_mode": {
    "name": "ipython",
    "version": 3
   },
   "file_extension": ".py",
   "mimetype": "text/x-python",
   "name": "python",
   "nbconvert_exporter": "python",
   "pygments_lexer": "ipython3",
   "version": "3.6.6"
  }
 },
 "nbformat": 4,
 "nbformat_minor": 2
}
